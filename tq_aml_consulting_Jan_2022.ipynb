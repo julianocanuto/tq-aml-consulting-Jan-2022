{
  "nbformat": 4,
  "nbformat_minor": 0,
  "metadata": {
    "colab": {
      "name": "tq-aml-consulting-Jan-2022.ipynb",
      "provenance": [],
      "collapsed_sections": [
        "QjgIAKfaH83q",
        "NrDVL30iOJv2",
        "3prRAd9kW2Bz",
        "LI0WdXx5W2WL",
        "gPc_koRwW2rl",
        "q9suCupRXAuL",
        "qdbvMMYWXA2N",
        "xvmA4_DFXA8u",
        "PgJ7bNroXBCd",
        "JMuXL0Z4XOsb",
        "mfZmi38SXaOk",
        "bv-_POlNXahm",
        "2p8c_HkPXaxN",
        "3yDMXHfNXa9q",
        "xIYMtkoSXbOz",
        "joDTXDdzXhxC",
        "enpxFAXSXiFs"
      ]
    },
    "kernelspec": {
      "name": "python3",
      "display_name": "Python 3"
    },
    "language_info": {
      "name": "python"
    }
  },
  "cells": [
    {
      "cell_type": "markdown",
      "source": [
        "# 0.0 IMPORTS"
      ],
      "metadata": {
        "id": "QjgIAKfaH83q"
      }
    },
    {
      "cell_type": "code",
      "execution_count": 3,
      "metadata": {
        "id": "oULq-HKM3tIm"
      },
      "outputs": [],
      "source": [
        "import pandas as pd"
      ]
    },
    {
      "cell_type": "markdown",
      "source": [
        "# 1.0 CARREGANDO DADOS"
      ],
      "metadata": {
        "id": "eSgqgXSDIIj1"
      }
    },
    {
      "cell_type": "code",
      "source": [
        "df_transactions_raw = pd.read_csv(\"data/202110_CPGF.csv\", sep=';', encoding='utf8', decimal=\",\")"
      ],
      "metadata": {
        "id": "VOuOYzq15JIa"
      },
      "execution_count": 139,
      "outputs": []
    },
    {
      "cell_type": "code",
      "source": [
        "df_transactions_raw.sample(3)"
      ],
      "metadata": {
        "colab": {
          "base_uri": "https://localhost:8080/",
          "height": 361
        },
        "id": "WGCaq2pI5Vyx",
        "outputId": "9f513361-cd15-4896-a473-d313cff6cf65"
      },
      "execution_count": 5,
      "outputs": [
        {
          "output_type": "execute_result",
          "data": {
            "text/html": [
              "\n",
              "  <div id=\"df-81c6a6fd-8788-43d9-b2e5-05839bae8c07\">\n",
              "    <div class=\"colab-df-container\">\n",
              "      <div>\n",
              "<style scoped>\n",
              "    .dataframe tbody tr th:only-of-type {\n",
              "        vertical-align: middle;\n",
              "    }\n",
              "\n",
              "    .dataframe tbody tr th {\n",
              "        vertical-align: top;\n",
              "    }\n",
              "\n",
              "    .dataframe thead th {\n",
              "        text-align: right;\n",
              "    }\n",
              "</style>\n",
              "<table border=\"1\" class=\"dataframe\">\n",
              "  <thead>\n",
              "    <tr style=\"text-align: right;\">\n",
              "      <th></th>\n",
              "      <th>CÓDIGO ÓRGÃO SUPERIOR</th>\n",
              "      <th>NOME ÓRGÃO SUPERIOR</th>\n",
              "      <th>CÓDIGO ÓRGÃO</th>\n",
              "      <th>NOME ÓRGÃO</th>\n",
              "      <th>CÓDIGO UNIDADE GESTORA</th>\n",
              "      <th>NOME UNIDADE GESTORA</th>\n",
              "      <th>ANO EXTRATO</th>\n",
              "      <th>MÊS EXTRATO</th>\n",
              "      <th>CPF PORTADOR</th>\n",
              "      <th>NOME PORTADOR</th>\n",
              "      <th>CNPJ OU CPF FAVORECIDO</th>\n",
              "      <th>NOME FAVORECIDO</th>\n",
              "      <th>TRANSAÇÃO</th>\n",
              "      <th>DATA TRANSAÇÃO</th>\n",
              "      <th>VALOR TRANSAÇÃO</th>\n",
              "    </tr>\n",
              "  </thead>\n",
              "  <tbody>\n",
              "    <tr>\n",
              "      <th>7168</th>\n",
              "      <td>53000</td>\n",
              "      <td>Ministério do Desenvolvimento Regional</td>\n",
              "      <td>29214</td>\n",
              "      <td>Companhia Brasileira de Trens Urbanos</td>\n",
              "      <td>275058</td>\n",
              "      <td>CIA.BRASILEIRA DE TRENS URBANOS-STU/BH</td>\n",
              "      <td>2021</td>\n",
              "      <td>10</td>\n",
              "      <td>***.311.446-**</td>\n",
              "      <td>MARCELO DE OLIVEIRA CRUZ</td>\n",
              "      <td>1.057350e+13</td>\n",
              "      <td>MERCADOPAGO.COM REPRESENTACOES LTDA.</td>\n",
              "      <td>COMPRA A/V - R$ - APRES</td>\n",
              "      <td>17/09/2021</td>\n",
              "      <td>56.0</td>\n",
              "    </tr>\n",
              "    <tr>\n",
              "      <th>2107</th>\n",
              "      <td>52000</td>\n",
              "      <td>Ministério da Defesa</td>\n",
              "      <td>52221</td>\n",
              "      <td>Indústria de Material Bélico do Brasil</td>\n",
              "      <td>168004</td>\n",
              "      <td>INDUSTRIA DE MATERIAL BELICO DO BRASIL/FPV</td>\n",
              "      <td>2021</td>\n",
              "      <td>10</td>\n",
              "      <td>***.863.058-**</td>\n",
              "      <td>CELSO BENEDITO MOREIRA</td>\n",
              "      <td>-2.000000e+00</td>\n",
              "      <td>NAO SE APLICA</td>\n",
              "      <td>SAQUE CASH/ATM BB</td>\n",
              "      <td>26/08/2021</td>\n",
              "      <td>560.0</td>\n",
              "    </tr>\n",
              "    <tr>\n",
              "      <th>140</th>\n",
              "      <td>22000</td>\n",
              "      <td>Ministério da Agricultura, Pecuária e Abastec</td>\n",
              "      <td>22202</td>\n",
              "      <td>Empresa Brasileira de Pesquisa Agropecuária</td>\n",
              "      <td>135033</td>\n",
              "      <td>EMBRAPA/CNPUV</td>\n",
              "      <td>2021</td>\n",
              "      <td>10</td>\n",
              "      <td>***.906.560-**</td>\n",
              "      <td>ILDOMAR ENGROFF DOS SANTOS</td>\n",
              "      <td>-2.000000e+00</td>\n",
              "      <td>NAO SE APLICA</td>\n",
              "      <td>SAQUE CASH/ATM BB</td>\n",
              "      <td>21/09/2021</td>\n",
              "      <td>175.0</td>\n",
              "    </tr>\n",
              "  </tbody>\n",
              "</table>\n",
              "</div>\n",
              "      <button class=\"colab-df-convert\" onclick=\"convertToInteractive('df-81c6a6fd-8788-43d9-b2e5-05839bae8c07')\"\n",
              "              title=\"Convert this dataframe to an interactive table.\"\n",
              "              style=\"display:none;\">\n",
              "        \n",
              "  <svg xmlns=\"http://www.w3.org/2000/svg\" height=\"24px\"viewBox=\"0 0 24 24\"\n",
              "       width=\"24px\">\n",
              "    <path d=\"M0 0h24v24H0V0z\" fill=\"none\"/>\n",
              "    <path d=\"M18.56 5.44l.94 2.06.94-2.06 2.06-.94-2.06-.94-.94-2.06-.94 2.06-2.06.94zm-11 1L8.5 8.5l.94-2.06 2.06-.94-2.06-.94L8.5 2.5l-.94 2.06-2.06.94zm10 10l.94 2.06.94-2.06 2.06-.94-2.06-.94-.94-2.06-.94 2.06-2.06.94z\"/><path d=\"M17.41 7.96l-1.37-1.37c-.4-.4-.92-.59-1.43-.59-.52 0-1.04.2-1.43.59L10.3 9.45l-7.72 7.72c-.78.78-.78 2.05 0 2.83L4 21.41c.39.39.9.59 1.41.59.51 0 1.02-.2 1.41-.59l7.78-7.78 2.81-2.81c.8-.78.8-2.07 0-2.86zM5.41 20L4 18.59l7.72-7.72 1.47 1.35L5.41 20z\"/>\n",
              "  </svg>\n",
              "      </button>\n",
              "      \n",
              "  <style>\n",
              "    .colab-df-container {\n",
              "      display:flex;\n",
              "      flex-wrap:wrap;\n",
              "      gap: 12px;\n",
              "    }\n",
              "\n",
              "    .colab-df-convert {\n",
              "      background-color: #E8F0FE;\n",
              "      border: none;\n",
              "      border-radius: 50%;\n",
              "      cursor: pointer;\n",
              "      display: none;\n",
              "      fill: #1967D2;\n",
              "      height: 32px;\n",
              "      padding: 0 0 0 0;\n",
              "      width: 32px;\n",
              "    }\n",
              "\n",
              "    .colab-df-convert:hover {\n",
              "      background-color: #E2EBFA;\n",
              "      box-shadow: 0px 1px 2px rgba(60, 64, 67, 0.3), 0px 1px 3px 1px rgba(60, 64, 67, 0.15);\n",
              "      fill: #174EA6;\n",
              "    }\n",
              "\n",
              "    [theme=dark] .colab-df-convert {\n",
              "      background-color: #3B4455;\n",
              "      fill: #D2E3FC;\n",
              "    }\n",
              "\n",
              "    [theme=dark] .colab-df-convert:hover {\n",
              "      background-color: #434B5C;\n",
              "      box-shadow: 0px 1px 3px 1px rgba(0, 0, 0, 0.15);\n",
              "      filter: drop-shadow(0px 1px 2px rgba(0, 0, 0, 0.3));\n",
              "      fill: #FFFFFF;\n",
              "    }\n",
              "  </style>\n",
              "\n",
              "      <script>\n",
              "        const buttonEl =\n",
              "          document.querySelector('#df-81c6a6fd-8788-43d9-b2e5-05839bae8c07 button.colab-df-convert');\n",
              "        buttonEl.style.display =\n",
              "          google.colab.kernel.accessAllowed ? 'block' : 'none';\n",
              "\n",
              "        async function convertToInteractive(key) {\n",
              "          const element = document.querySelector('#df-81c6a6fd-8788-43d9-b2e5-05839bae8c07');\n",
              "          const dataTable =\n",
              "            await google.colab.kernel.invokeFunction('convertToInteractive',\n",
              "                                                     [key], {});\n",
              "          if (!dataTable) return;\n",
              "\n",
              "          const docLinkHtml = 'Like what you see? Visit the ' +\n",
              "            '<a target=\"_blank\" href=https://colab.research.google.com/notebooks/data_table.ipynb>data table notebook</a>'\n",
              "            + ' to learn more about interactive tables.';\n",
              "          element.innerHTML = '';\n",
              "          dataTable['output_type'] = 'display_data';\n",
              "          await google.colab.output.renderOutput(dataTable, element);\n",
              "          const docLink = document.createElement('div');\n",
              "          docLink.innerHTML = docLinkHtml;\n",
              "          element.appendChild(docLink);\n",
              "        }\n",
              "      </script>\n",
              "    </div>\n",
              "  </div>\n",
              "  "
            ],
            "text/plain": [
              "      CÓDIGO ÓRGÃO SUPERIOR  ... VALOR TRANSAÇÃO\n",
              "7168                  53000  ...            56.0\n",
              "2107                  52000  ...           560.0\n",
              "140                   22000  ...           175.0\n",
              "\n",
              "[3 rows x 15 columns]"
            ]
          },
          "metadata": {},
          "execution_count": 5
        }
      ]
    },
    {
      "cell_type": "markdown",
      "source": [
        "# 2.0 DESCRIÇÃO DOS DADOS"
      ],
      "metadata": {
        "id": "t3kQuy_4I2f-"
      }
    },
    {
      "cell_type": "code",
      "source": [
        "df1 = df_transactions_raw.copy()"
      ],
      "metadata": {
        "id": "4k4CV91aOR9R"
      },
      "execution_count": 6,
      "outputs": []
    },
    {
      "cell_type": "markdown",
      "source": [
        "## 2.1 Dimensão dos dados"
      ],
      "metadata": {
        "id": "NrDVL30iOJv2"
      }
    },
    {
      "cell_type": "code",
      "source": [
        "df1.shape"
      ],
      "metadata": {
        "colab": {
          "base_uri": "https://localhost:8080/"
        },
        "id": "ykQRbGrjJQPs",
        "outputId": "2f5fd512-878b-491f-b6da-9714557c96a2"
      },
      "execution_count": 7,
      "outputs": [
        {
          "output_type": "execute_result",
          "data": {
            "text/plain": [
              "(8621, 15)"
            ]
          },
          "metadata": {},
          "execution_count": 7
        }
      ]
    },
    {
      "cell_type": "markdown",
      "source": [
        "## 2.1 Tipos de dados"
      ],
      "metadata": {
        "id": "bwYokkZVN7_8"
      }
    },
    {
      "cell_type": "code",
      "source": [
        "df1.dtypes"
      ],
      "metadata": {
        "colab": {
          "base_uri": "https://localhost:8080/"
        },
        "id": "5DZrtNjnHfF5",
        "outputId": "01c1c6a2-e9d4-4aa8-f1ea-0d71312eb6ee"
      },
      "execution_count": 8,
      "outputs": [
        {
          "output_type": "execute_result",
          "data": {
            "text/plain": [
              "CÓDIGO ÓRGÃO SUPERIOR       int64\n",
              "NOME ÓRGÃO SUPERIOR        object\n",
              "CÓDIGO ÓRGÃO                int64\n",
              "NOME ÓRGÃO                 object\n",
              "CÓDIGO UNIDADE GESTORA      int64\n",
              "NOME UNIDADE GESTORA       object\n",
              "ANO EXTRATO                 int64\n",
              "MÊS EXTRATO                 int64\n",
              "CPF PORTADOR               object\n",
              "NOME PORTADOR              object\n",
              "CNPJ OU CPF FAVORECIDO    float64\n",
              "NOME FAVORECIDO            object\n",
              "TRANSAÇÃO                  object\n",
              "DATA TRANSAÇÃO             object\n",
              "VALOR TRANSAÇÃO           float64\n",
              "dtype: object"
            ]
          },
          "metadata": {},
          "execution_count": 8
        }
      ]
    },
    {
      "cell_type": "markdown",
      "source": [
        "## 2.2 Altera tipos"
      ],
      "metadata": {
        "id": "rGbKBg7w5w0Q"
      }
    },
    {
      "cell_type": "code",
      "source": [
        "# Altera o tipo do campo 'CNPJ OU CPF FAVORECIDO' de float para string\n",
        "df1['CNPJ OU CPF FAVORECIDO'] = df1['CNPJ OU CPF FAVORECIDO'].astype(str)"
      ],
      "metadata": {
        "id": "q3yYQ7yA5zqI"
      },
      "execution_count": 76,
      "outputs": []
    },
    {
      "cell_type": "code",
      "source": [
        "# Altera o tipo do campo 'DATA TRANSAÇÃO' de object para datetime\n",
        "df1['DATA TRANSAÇÃO'] = pd.to_datetime(df1['DATA TRANSAÇÃO'])"
      ],
      "metadata": {
        "id": "3oS81W2O_Yk8"
      },
      "execution_count": 88,
      "outputs": []
    },
    {
      "cell_type": "code",
      "source": [
        "df1.dtypes"
      ],
      "metadata": {
        "colab": {
          "base_uri": "https://localhost:8080/"
        },
        "id": "Qr-upmtU6pD_",
        "outputId": "c701d49d-bdaa-4377-ca77-204e4f2b46fc"
      },
      "execution_count": 89,
      "outputs": [
        {
          "output_type": "execute_result",
          "data": {
            "text/plain": [
              "CÓDIGO ÓRGÃO SUPERIOR              int64\n",
              "NOME ÓRGÃO SUPERIOR               object\n",
              "CÓDIGO ÓRGÃO                       int64\n",
              "NOME ÓRGÃO                        object\n",
              "CÓDIGO UNIDADE GESTORA             int64\n",
              "NOME UNIDADE GESTORA              object\n",
              "ANO EXTRATO                        int64\n",
              "MÊS EXTRATO                        int64\n",
              "CPF PORTADOR                      object\n",
              "NOME PORTADOR                     object\n",
              "CNPJ OU CPF FAVORECIDO            object\n",
              "NOME FAVORECIDO                   object\n",
              "TRANSAÇÃO                         object\n",
              "DATA TRANSAÇÃO            datetime64[ns]\n",
              "VALOR TRANSAÇÃO                  float64\n",
              "dtype: object"
            ]
          },
          "metadata": {},
          "execution_count": 89
        }
      ]
    },
    {
      "cell_type": "markdown",
      "source": [
        "## 2.3 Verifica NA"
      ],
      "metadata": {
        "id": "T0mWujWPtHHP"
      }
    },
    {
      "cell_type": "code",
      "source": [
        "df1.isna().sum()"
      ],
      "metadata": {
        "colab": {
          "base_uri": "https://localhost:8080/"
        },
        "id": "BuIf-h4atNeo",
        "outputId": "7c071daf-5b3d-4dce-9d53-d2bae8150707"
      },
      "execution_count": 26,
      "outputs": [
        {
          "output_type": "execute_result",
          "data": {
            "text/plain": [
              "CÓDIGO ÓRGÃO SUPERIOR        0\n",
              "NOME ÓRGÃO SUPERIOR          0\n",
              "CÓDIGO ÓRGÃO                 0\n",
              "NOME ÓRGÃO                   0\n",
              "CÓDIGO UNIDADE GESTORA       0\n",
              "NOME UNIDADE GESTORA         0\n",
              "ANO EXTRATO                  0\n",
              "MÊS EXTRATO                  0\n",
              "CPF PORTADOR              2373\n",
              "NOME PORTADOR                0\n",
              "CNPJ OU CPF FAVORECIDO       0\n",
              "NOME FAVORECIDO              0\n",
              "TRANSAÇÃO                    0\n",
              "DATA TRANSAÇÃO            2306\n",
              "VALOR TRANSAÇÃO              0\n",
              "dtype: int64"
            ]
          },
          "metadata": {},
          "execution_count": 26
        }
      ]
    },
    {
      "cell_type": "markdown",
      "source": [
        "# 3.0 Questões"
      ],
      "metadata": {
        "id": "XFllyN9AWuUJ"
      }
    },
    {
      "cell_type": "markdown",
      "source": [
        "## 3.1 Utilidades"
      ],
      "metadata": {
        "id": "kzSnkx7wgOBx"
      }
    },
    {
      "cell_type": "code",
      "source": [
        "def format_to_brl_currency(amount):\n",
        "    # Source: https://www.kite.com/python/answers/how-to-format-currency-in-python\n",
        "    thousands_separator = \".\"\n",
        "    fractional_separator = \",\"\n",
        "    currency = \"R${:,.2f}\".format(amount)\n",
        "    if thousands_separator == \".\":\n",
        "        main_currency, fractional_currency = currency.split(\".\")[0], currency.split(\".\")[1]\n",
        "        new_main_currency = main_currency.replace(\",\", \".\")\n",
        "        currency = new_main_currency + fractional_separator + fractional_currency\n",
        "    return currency"
      ],
      "metadata": {
        "id": "mfxqH4PrgX8P"
      },
      "execution_count": 137,
      "outputs": []
    },
    {
      "cell_type": "markdown",
      "source": [
        "## 3.2 Respostas"
      ],
      "metadata": {
        "id": "esietLdcgS6C"
      }
    },
    {
      "cell_type": "markdown",
      "source": [
        "### A – Com suas palavras explique o que é lavagem de dinheiro."
      ],
      "metadata": {
        "id": "3prRAd9kW2Bz"
      }
    },
    {
      "cell_type": "markdown",
      "source": [
        "Lavagem de dinheiro é o processo que tem por objetivo tornar o dinheiro de origem ilícita em dinheiro de origem lícita."
      ],
      "metadata": {
        "id": "W2n8U8UziQsO"
      }
    },
    {
      "cell_type": "markdown",
      "source": [
        "### B – O que é Cartão de Pagamento do Governo Federal (CPGF), e qual a sua finalidade."
      ],
      "metadata": {
        "id": "LI0WdXx5W2WL"
      }
    },
    {
      "cell_type": "markdown",
      "source": [
        "De acordo com o site do Portal da Transparência[[1]](#Referências), o Cartão de Pagamento do Governo Federal é:\n",
        "> \"(...) um meio de pagamento utilizado pelo governo que funciona de forma similar ao cartão de crédito que utilizamos em nossas vidas, porém dentro de limites e regras específicas.\"\n",
        "\n",
        "Ainda de acordo com [1] a finalidade do CPGF é:\n",
        "> (...) para pagamentos de despesas próprias, que possam ser enquadradas como suprimento de fundos."
      ],
      "metadata": {
        "id": "y4AYJODoi0px"
      }
    },
    {
      "cell_type": "markdown",
      "source": [
        "### C – Quem pode utilizar o CPGF?"
      ],
      "metadata": {
        "id": "gPc_koRwW2rl"
      }
    },
    {
      "cell_type": "markdown",
      "source": [
        "  Concedido ao **servidor** para pagamento de despesas. [[1][4]](#Referências)"
      ],
      "metadata": {
        "id": "RPUq34PoyTEy"
      }
    },
    {
      "cell_type": "markdown",
      "source": [
        "### D – Qual a URL onde é possível fazer o download dos arquivos do CPGF?"
      ],
      "metadata": {
        "id": "q9suCupRXAuL"
      }
    },
    {
      "cell_type": "markdown",
      "source": [
        "| Dados do CPGF para download | https://www.portaltransparencia.gov.br/download-de-dados/cpgf |\n",
        "|-----------------------------|---------------------------------------------------------------|"
      ],
      "metadata": {
        "id": "5q4OLuLzyVKs"
      }
    },
    {
      "cell_type": "markdown",
      "source": [
        "### E – Qual a URL da paǵina com a descrição dos campos (ou dicionário de dados) da CPGF?"
      ],
      "metadata": {
        "id": "qdbvMMYWXA2N"
      }
    },
    {
      "cell_type": "markdown",
      "source": [
        "| Dicionário de dados | https://www.portaldatransparencia.gov.br/pagina-interna/603393-dicionario-de-dados-cpgf |\n",
        "|---------------------|-----------------------------------------------------------------------------------------|"
      ],
      "metadata": {
        "id": "VnJlcALIyXbK"
      }
    },
    {
      "cell_type": "markdown",
      "source": [
        "### F – É possível identificar o nome e o documento do portador do CPGF, em todas as movimentações ou há movimentações onde não é possível identificar o portador?"
      ],
      "metadata": {
        "id": "xvmA4_DFXA8u"
      }
    },
    {
      "cell_type": "markdown",
      "source": [
        "Não é possível identificar o nome e o documento do portador do CPGF em todas as movimentações, pois há movimentações em que o nome do portador é *'Sigiloso'* ou *'SEM INFORMAÇÂO'* e há registros com o campo documento *vazio*."
      ],
      "metadata": {
        "id": "QkuiHibdydLe"
      }
    },
    {
      "cell_type": "code",
      "source": [
        "# Gera dataset que contém CPF PORTADOR como NA (não informado)\n",
        "# Na coluna NOME PORTADOR verifica quais são os valores únicos existentes\n",
        "df1[df1['CPF PORTADOR'].isna()]['NOME PORTADOR'].unique()"
      ],
      "metadata": {
        "colab": {
          "base_uri": "https://localhost:8080/"
        },
        "id": "ALqJNWVNxHwX",
        "outputId": "48fb6b6a-8a4b-41cd-97bc-6c7c8b4e7e63"
      },
      "execution_count": 32,
      "outputs": [
        {
          "output_type": "execute_result",
          "data": {
            "text/plain": [
              "array(['SEM INFORMACAO', 'Sigiloso'], dtype=object)"
            ]
          },
          "metadata": {},
          "execution_count": 32
        }
      ]
    },
    {
      "cell_type": "code",
      "source": [
        "df1.isna().sum()"
      ],
      "metadata": {
        "colab": {
          "base_uri": "https://localhost:8080/"
        },
        "id": "ylMPLinPyjzA",
        "outputId": "dc69876b-1cce-4e59-939e-1245705a1014"
      },
      "execution_count": 33,
      "outputs": [
        {
          "output_type": "execute_result",
          "data": {
            "text/plain": [
              "CÓDIGO ÓRGÃO SUPERIOR        0\n",
              "NOME ÓRGÃO SUPERIOR          0\n",
              "CÓDIGO ÓRGÃO                 0\n",
              "NOME ÓRGÃO                   0\n",
              "CÓDIGO UNIDADE GESTORA       0\n",
              "NOME UNIDADE GESTORA         0\n",
              "ANO EXTRATO                  0\n",
              "MÊS EXTRATO                  0\n",
              "CPF PORTADOR              2373\n",
              "NOME PORTADOR                0\n",
              "CNPJ OU CPF FAVORECIDO       0\n",
              "NOME FAVORECIDO              0\n",
              "TRANSAÇÃO                    0\n",
              "DATA TRANSAÇÃO            2306\n",
              "VALOR TRANSAÇÃO              0\n",
              "dtype: int64"
            ]
          },
          "metadata": {},
          "execution_count": 33
        }
      ]
    },
    {
      "cell_type": "markdown",
      "source": [
        "\n",
        "### G – É possível identificar o Órgão do portador do CPGF?"
      ],
      "metadata": {
        "id": "PgJ7bNroXBCd"
      }
    },
    {
      "cell_type": "markdown",
      "source": [
        "É possível identificar o Órgão do portador do CPFG **através do campo *'NOME ÓRGÃO'***."
      ],
      "metadata": {
        "id": "EeH9iFrMjhUD"
      }
    },
    {
      "cell_type": "code",
      "source": [
        "dfG = df1[['NOME PORTADOR', 'NOME ÓRGÃO']]"
      ],
      "metadata": {
        "id": "vr7aJOUujkzr"
      },
      "execution_count": 141,
      "outputs": []
    },
    {
      "cell_type": "code",
      "source": [
        "dfG.sample(2)"
      ],
      "metadata": {
        "colab": {
          "base_uri": "https://localhost:8080/",
          "height": 112
        },
        "id": "rOqbXCAmjq44",
        "outputId": "abc8827d-9630-457e-e263-91bf68bf93c6"
      },
      "execution_count": 142,
      "outputs": [
        {
          "output_type": "execute_result",
          "data": {
            "text/html": [
              "\n",
              "  <div id=\"df-0946db10-304f-4379-93d4-adab3d88ef09\">\n",
              "    <div class=\"colab-df-container\">\n",
              "      <div>\n",
              "<style scoped>\n",
              "    .dataframe tbody tr th:only-of-type {\n",
              "        vertical-align: middle;\n",
              "    }\n",
              "\n",
              "    .dataframe tbody tr th {\n",
              "        vertical-align: top;\n",
              "    }\n",
              "\n",
              "    .dataframe thead th {\n",
              "        text-align: right;\n",
              "    }\n",
              "</style>\n",
              "<table border=\"1\" class=\"dataframe\">\n",
              "  <thead>\n",
              "    <tr style=\"text-align: right;\">\n",
              "      <th></th>\n",
              "      <th>NOME PORTADOR</th>\n",
              "      <th>NOME ÓRGÃO</th>\n",
              "    </tr>\n",
              "  </thead>\n",
              "  <tbody>\n",
              "    <tr>\n",
              "      <th>7531</th>\n",
              "      <td>LEONARDO VIANNA MOHR</td>\n",
              "      <td>Instituto Chico Mendes de Conservação da Biodi...</td>\n",
              "    </tr>\n",
              "    <tr>\n",
              "      <th>528</th>\n",
              "      <td>ANTONIO VIRGINIO DE ALENCAR</td>\n",
              "      <td>Instituto Nacional de Colonização e Reforma Ag...</td>\n",
              "    </tr>\n",
              "  </tbody>\n",
              "</table>\n",
              "</div>\n",
              "      <button class=\"colab-df-convert\" onclick=\"convertToInteractive('df-0946db10-304f-4379-93d4-adab3d88ef09')\"\n",
              "              title=\"Convert this dataframe to an interactive table.\"\n",
              "              style=\"display:none;\">\n",
              "        \n",
              "  <svg xmlns=\"http://www.w3.org/2000/svg\" height=\"24px\"viewBox=\"0 0 24 24\"\n",
              "       width=\"24px\">\n",
              "    <path d=\"M0 0h24v24H0V0z\" fill=\"none\"/>\n",
              "    <path d=\"M18.56 5.44l.94 2.06.94-2.06 2.06-.94-2.06-.94-.94-2.06-.94 2.06-2.06.94zm-11 1L8.5 8.5l.94-2.06 2.06-.94-2.06-.94L8.5 2.5l-.94 2.06-2.06.94zm10 10l.94 2.06.94-2.06 2.06-.94-2.06-.94-.94-2.06-.94 2.06-2.06.94z\"/><path d=\"M17.41 7.96l-1.37-1.37c-.4-.4-.92-.59-1.43-.59-.52 0-1.04.2-1.43.59L10.3 9.45l-7.72 7.72c-.78.78-.78 2.05 0 2.83L4 21.41c.39.39.9.59 1.41.59.51 0 1.02-.2 1.41-.59l7.78-7.78 2.81-2.81c.8-.78.8-2.07 0-2.86zM5.41 20L4 18.59l7.72-7.72 1.47 1.35L5.41 20z\"/>\n",
              "  </svg>\n",
              "      </button>\n",
              "      \n",
              "  <style>\n",
              "    .colab-df-container {\n",
              "      display:flex;\n",
              "      flex-wrap:wrap;\n",
              "      gap: 12px;\n",
              "    }\n",
              "\n",
              "    .colab-df-convert {\n",
              "      background-color: #E8F0FE;\n",
              "      border: none;\n",
              "      border-radius: 50%;\n",
              "      cursor: pointer;\n",
              "      display: none;\n",
              "      fill: #1967D2;\n",
              "      height: 32px;\n",
              "      padding: 0 0 0 0;\n",
              "      width: 32px;\n",
              "    }\n",
              "\n",
              "    .colab-df-convert:hover {\n",
              "      background-color: #E2EBFA;\n",
              "      box-shadow: 0px 1px 2px rgba(60, 64, 67, 0.3), 0px 1px 3px 1px rgba(60, 64, 67, 0.15);\n",
              "      fill: #174EA6;\n",
              "    }\n",
              "\n",
              "    [theme=dark] .colab-df-convert {\n",
              "      background-color: #3B4455;\n",
              "      fill: #D2E3FC;\n",
              "    }\n",
              "\n",
              "    [theme=dark] .colab-df-convert:hover {\n",
              "      background-color: #434B5C;\n",
              "      box-shadow: 0px 1px 3px 1px rgba(0, 0, 0, 0.15);\n",
              "      filter: drop-shadow(0px 1px 2px rgba(0, 0, 0, 0.3));\n",
              "      fill: #FFFFFF;\n",
              "    }\n",
              "  </style>\n",
              "\n",
              "      <script>\n",
              "        const buttonEl =\n",
              "          document.querySelector('#df-0946db10-304f-4379-93d4-adab3d88ef09 button.colab-df-convert');\n",
              "        buttonEl.style.display =\n",
              "          google.colab.kernel.accessAllowed ? 'block' : 'none';\n",
              "\n",
              "        async function convertToInteractive(key) {\n",
              "          const element = document.querySelector('#df-0946db10-304f-4379-93d4-adab3d88ef09');\n",
              "          const dataTable =\n",
              "            await google.colab.kernel.invokeFunction('convertToInteractive',\n",
              "                                                     [key], {});\n",
              "          if (!dataTable) return;\n",
              "\n",
              "          const docLinkHtml = 'Like what you see? Visit the ' +\n",
              "            '<a target=\"_blank\" href=https://colab.research.google.com/notebooks/data_table.ipynb>data table notebook</a>'\n",
              "            + ' to learn more about interactive tables.';\n",
              "          element.innerHTML = '';\n",
              "          dataTable['output_type'] = 'display_data';\n",
              "          await google.colab.output.renderOutput(dataTable, element);\n",
              "          const docLink = document.createElement('div');\n",
              "          docLink.innerHTML = docLinkHtml;\n",
              "          element.appendChild(docLink);\n",
              "        }\n",
              "      </script>\n",
              "    </div>\n",
              "  </div>\n",
              "  "
            ],
            "text/plain": [
              "                    NOME PORTADOR                                         NOME ÓRGÃO\n",
              "7531         LEONARDO VIANNA MOHR  Instituto Chico Mendes de Conservação da Biodi...\n",
              "528   ANTONIO VIRGINIO DE ALENCAR  Instituto Nacional de Colonização e Reforma Ag..."
            ]
          },
          "metadata": {},
          "execution_count": 142
        }
      ]
    },
    {
      "cell_type": "markdown",
      "source": [
        "### H - Qual o nome do Órgão cujo código é 20402?"
      ],
      "metadata": {
        "id": "JMuXL0Z4XOsb"
      }
    },
    {
      "cell_type": "code",
      "source": [
        "# Seleciona as colunas de interesse\n",
        "dfH = df1[['CÓDIGO ÓRGÃO', 'NOME ÓRGÃO']]"
      ],
      "metadata": {
        "id": "BfOgBFca0oNE"
      },
      "execution_count": 35,
      "outputs": []
    },
    {
      "cell_type": "code",
      "source": [
        "# Filtra os registros nos quais o CÓDIGO ÓRGÃO seja igual a 20402\n",
        "# Exibe apenas 1o registro do dataset\n",
        "dfH[dfH['CÓDIGO ÓRGÃO'] == 20402].head(1)"
      ],
      "metadata": {
        "colab": {
          "base_uri": "https://localhost:8080/",
          "height": 0
        },
        "id": "p0SZoYXqAMA1",
        "outputId": "8d0cc00d-ea72-4c2c-ba3f-efc3ac8efdfb"
      },
      "execution_count": 39,
      "outputs": [
        {
          "output_type": "execute_result",
          "data": {
            "text/html": [
              "\n",
              "  <div id=\"df-f21e1fbe-7d4c-4ed0-99dd-63d9864cef85\">\n",
              "    <div class=\"colab-df-container\">\n",
              "      <div>\n",
              "<style scoped>\n",
              "    .dataframe tbody tr th:only-of-type {\n",
              "        vertical-align: middle;\n",
              "    }\n",
              "\n",
              "    .dataframe tbody tr th {\n",
              "        vertical-align: top;\n",
              "    }\n",
              "\n",
              "    .dataframe thead th {\n",
              "        text-align: right;\n",
              "    }\n",
              "</style>\n",
              "<table border=\"1\" class=\"dataframe\">\n",
              "  <thead>\n",
              "    <tr style=\"text-align: right;\">\n",
              "      <th></th>\n",
              "      <th>CÓDIGO ÓRGÃO</th>\n",
              "      <th>NOME ÓRGÃO</th>\n",
              "    </tr>\n",
              "  </thead>\n",
              "  <tbody>\n",
              "    <tr>\n",
              "      <th>844</th>\n",
              "      <td>20402</td>\n",
              "      <td>Agência Espacial Brasileira</td>\n",
              "    </tr>\n",
              "  </tbody>\n",
              "</table>\n",
              "</div>\n",
              "      <button class=\"colab-df-convert\" onclick=\"convertToInteractive('df-f21e1fbe-7d4c-4ed0-99dd-63d9864cef85')\"\n",
              "              title=\"Convert this dataframe to an interactive table.\"\n",
              "              style=\"display:none;\">\n",
              "        \n",
              "  <svg xmlns=\"http://www.w3.org/2000/svg\" height=\"24px\"viewBox=\"0 0 24 24\"\n",
              "       width=\"24px\">\n",
              "    <path d=\"M0 0h24v24H0V0z\" fill=\"none\"/>\n",
              "    <path d=\"M18.56 5.44l.94 2.06.94-2.06 2.06-.94-2.06-.94-.94-2.06-.94 2.06-2.06.94zm-11 1L8.5 8.5l.94-2.06 2.06-.94-2.06-.94L8.5 2.5l-.94 2.06-2.06.94zm10 10l.94 2.06.94-2.06 2.06-.94-2.06-.94-.94-2.06-.94 2.06-2.06.94z\"/><path d=\"M17.41 7.96l-1.37-1.37c-.4-.4-.92-.59-1.43-.59-.52 0-1.04.2-1.43.59L10.3 9.45l-7.72 7.72c-.78.78-.78 2.05 0 2.83L4 21.41c.39.39.9.59 1.41.59.51 0 1.02-.2 1.41-.59l7.78-7.78 2.81-2.81c.8-.78.8-2.07 0-2.86zM5.41 20L4 18.59l7.72-7.72 1.47 1.35L5.41 20z\"/>\n",
              "  </svg>\n",
              "      </button>\n",
              "      \n",
              "  <style>\n",
              "    .colab-df-container {\n",
              "      display:flex;\n",
              "      flex-wrap:wrap;\n",
              "      gap: 12px;\n",
              "    }\n",
              "\n",
              "    .colab-df-convert {\n",
              "      background-color: #E8F0FE;\n",
              "      border: none;\n",
              "      border-radius: 50%;\n",
              "      cursor: pointer;\n",
              "      display: none;\n",
              "      fill: #1967D2;\n",
              "      height: 32px;\n",
              "      padding: 0 0 0 0;\n",
              "      width: 32px;\n",
              "    }\n",
              "\n",
              "    .colab-df-convert:hover {\n",
              "      background-color: #E2EBFA;\n",
              "      box-shadow: 0px 1px 2px rgba(60, 64, 67, 0.3), 0px 1px 3px 1px rgba(60, 64, 67, 0.15);\n",
              "      fill: #174EA6;\n",
              "    }\n",
              "\n",
              "    [theme=dark] .colab-df-convert {\n",
              "      background-color: #3B4455;\n",
              "      fill: #D2E3FC;\n",
              "    }\n",
              "\n",
              "    [theme=dark] .colab-df-convert:hover {\n",
              "      background-color: #434B5C;\n",
              "      box-shadow: 0px 1px 3px 1px rgba(0, 0, 0, 0.15);\n",
              "      filter: drop-shadow(0px 1px 2px rgba(0, 0, 0, 0.3));\n",
              "      fill: #FFFFFF;\n",
              "    }\n",
              "  </style>\n",
              "\n",
              "      <script>\n",
              "        const buttonEl =\n",
              "          document.querySelector('#df-f21e1fbe-7d4c-4ed0-99dd-63d9864cef85 button.colab-df-convert');\n",
              "        buttonEl.style.display =\n",
              "          google.colab.kernel.accessAllowed ? 'block' : 'none';\n",
              "\n",
              "        async function convertToInteractive(key) {\n",
              "          const element = document.querySelector('#df-f21e1fbe-7d4c-4ed0-99dd-63d9864cef85');\n",
              "          const dataTable =\n",
              "            await google.colab.kernel.invokeFunction('convertToInteractive',\n",
              "                                                     [key], {});\n",
              "          if (!dataTable) return;\n",
              "\n",
              "          const docLinkHtml = 'Like what you see? Visit the ' +\n",
              "            '<a target=\"_blank\" href=https://colab.research.google.com/notebooks/data_table.ipynb>data table notebook</a>'\n",
              "            + ' to learn more about interactive tables.';\n",
              "          element.innerHTML = '';\n",
              "          dataTable['output_type'] = 'display_data';\n",
              "          await google.colab.output.renderOutput(dataTable, element);\n",
              "          const docLink = document.createElement('div');\n",
              "          docLink.innerHTML = docLinkHtml;\n",
              "          element.appendChild(docLink);\n",
              "        }\n",
              "      </script>\n",
              "    </div>\n",
              "  </div>\n",
              "  "
            ],
            "text/plain": [
              "     CÓDIGO ÓRGÃO                   NOME ÓRGÃO\n",
              "844         20402  Agência Espacial Brasileira"
            ]
          },
          "metadata": {},
          "execution_count": 39
        }
      ]
    },
    {
      "cell_type": "markdown",
      "source": [
        "### I - É possível identificar o Nome e Documento (CNPJ) dos favorecidos pela utilização do CPGF?"
      ],
      "metadata": {
        "id": "mfZmi38SXaOk"
      }
    },
    {
      "cell_type": "markdown",
      "source": [
        "É possível identificar o Nome e Documento (CNPJ) dos favorecidos **somente em parte dos dados**, pois há movimentações com status como: *NAO SE APLICA*, *SEM INFORMACAO* e *Sigiloso*."
      ],
      "metadata": {
        "id": "noZbSB_T1r_1"
      }
    },
    {
      "cell_type": "code",
      "source": [
        "# Seleciona as colunas de interesse\n",
        "dfI = df1[['NOME FAVORECIDO', 'CNPJ OU CPF FAVORECIDO']]\n",
        "dfI.sample(3)"
      ],
      "metadata": {
        "colab": {
          "base_uri": "https://localhost:8080/",
          "height": 143
        },
        "id": "_16k6LKF1tNL",
        "outputId": "ec5ccc81-8523-42f9-8d49-612b8dfa632e"
      },
      "execution_count": 78,
      "outputs": [
        {
          "output_type": "execute_result",
          "data": {
            "text/html": [
              "\n",
              "  <div id=\"df-142e2753-3c76-4350-a166-fffb2a6b83e4\">\n",
              "    <div class=\"colab-df-container\">\n",
              "      <div>\n",
              "<style scoped>\n",
              "    .dataframe tbody tr th:only-of-type {\n",
              "        vertical-align: middle;\n",
              "    }\n",
              "\n",
              "    .dataframe tbody tr th {\n",
              "        vertical-align: top;\n",
              "    }\n",
              "\n",
              "    .dataframe thead th {\n",
              "        text-align: right;\n",
              "    }\n",
              "</style>\n",
              "<table border=\"1\" class=\"dataframe\">\n",
              "  <thead>\n",
              "    <tr style=\"text-align: right;\">\n",
              "      <th></th>\n",
              "      <th>NOME FAVORECIDO</th>\n",
              "      <th>CNPJ OU CPF FAVORECIDO</th>\n",
              "    </tr>\n",
              "  </thead>\n",
              "  <tbody>\n",
              "    <tr>\n",
              "      <th>4848</th>\n",
              "      <td>Sigiloso</td>\n",
              "      <td>-11.0</td>\n",
              "    </tr>\n",
              "    <tr>\n",
              "      <th>8230</th>\n",
              "      <td>JOSE ALEX DA SILVA</td>\n",
              "      <td>33297947802.0</td>\n",
              "    </tr>\n",
              "    <tr>\n",
              "      <th>5844</th>\n",
              "      <td>Sigiloso</td>\n",
              "      <td>-11.0</td>\n",
              "    </tr>\n",
              "  </tbody>\n",
              "</table>\n",
              "</div>\n",
              "      <button class=\"colab-df-convert\" onclick=\"convertToInteractive('df-142e2753-3c76-4350-a166-fffb2a6b83e4')\"\n",
              "              title=\"Convert this dataframe to an interactive table.\"\n",
              "              style=\"display:none;\">\n",
              "        \n",
              "  <svg xmlns=\"http://www.w3.org/2000/svg\" height=\"24px\"viewBox=\"0 0 24 24\"\n",
              "       width=\"24px\">\n",
              "    <path d=\"M0 0h24v24H0V0z\" fill=\"none\"/>\n",
              "    <path d=\"M18.56 5.44l.94 2.06.94-2.06 2.06-.94-2.06-.94-.94-2.06-.94 2.06-2.06.94zm-11 1L8.5 8.5l.94-2.06 2.06-.94-2.06-.94L8.5 2.5l-.94 2.06-2.06.94zm10 10l.94 2.06.94-2.06 2.06-.94-2.06-.94-.94-2.06-.94 2.06-2.06.94z\"/><path d=\"M17.41 7.96l-1.37-1.37c-.4-.4-.92-.59-1.43-.59-.52 0-1.04.2-1.43.59L10.3 9.45l-7.72 7.72c-.78.78-.78 2.05 0 2.83L4 21.41c.39.39.9.59 1.41.59.51 0 1.02-.2 1.41-.59l7.78-7.78 2.81-2.81c.8-.78.8-2.07 0-2.86zM5.41 20L4 18.59l7.72-7.72 1.47 1.35L5.41 20z\"/>\n",
              "  </svg>\n",
              "      </button>\n",
              "      \n",
              "  <style>\n",
              "    .colab-df-container {\n",
              "      display:flex;\n",
              "      flex-wrap:wrap;\n",
              "      gap: 12px;\n",
              "    }\n",
              "\n",
              "    .colab-df-convert {\n",
              "      background-color: #E8F0FE;\n",
              "      border: none;\n",
              "      border-radius: 50%;\n",
              "      cursor: pointer;\n",
              "      display: none;\n",
              "      fill: #1967D2;\n",
              "      height: 32px;\n",
              "      padding: 0 0 0 0;\n",
              "      width: 32px;\n",
              "    }\n",
              "\n",
              "    .colab-df-convert:hover {\n",
              "      background-color: #E2EBFA;\n",
              "      box-shadow: 0px 1px 2px rgba(60, 64, 67, 0.3), 0px 1px 3px 1px rgba(60, 64, 67, 0.15);\n",
              "      fill: #174EA6;\n",
              "    }\n",
              "\n",
              "    [theme=dark] .colab-df-convert {\n",
              "      background-color: #3B4455;\n",
              "      fill: #D2E3FC;\n",
              "    }\n",
              "\n",
              "    [theme=dark] .colab-df-convert:hover {\n",
              "      background-color: #434B5C;\n",
              "      box-shadow: 0px 1px 3px 1px rgba(0, 0, 0, 0.15);\n",
              "      filter: drop-shadow(0px 1px 2px rgba(0, 0, 0, 0.3));\n",
              "      fill: #FFFFFF;\n",
              "    }\n",
              "  </style>\n",
              "\n",
              "      <script>\n",
              "        const buttonEl =\n",
              "          document.querySelector('#df-142e2753-3c76-4350-a166-fffb2a6b83e4 button.colab-df-convert');\n",
              "        buttonEl.style.display =\n",
              "          google.colab.kernel.accessAllowed ? 'block' : 'none';\n",
              "\n",
              "        async function convertToInteractive(key) {\n",
              "          const element = document.querySelector('#df-142e2753-3c76-4350-a166-fffb2a6b83e4');\n",
              "          const dataTable =\n",
              "            await google.colab.kernel.invokeFunction('convertToInteractive',\n",
              "                                                     [key], {});\n",
              "          if (!dataTable) return;\n",
              "\n",
              "          const docLinkHtml = 'Like what you see? Visit the ' +\n",
              "            '<a target=\"_blank\" href=https://colab.research.google.com/notebooks/data_table.ipynb>data table notebook</a>'\n",
              "            + ' to learn more about interactive tables.';\n",
              "          element.innerHTML = '';\n",
              "          dataTable['output_type'] = 'display_data';\n",
              "          await google.colab.output.renderOutput(dataTable, element);\n",
              "          const docLink = document.createElement('div');\n",
              "          docLink.innerHTML = docLinkHtml;\n",
              "          element.appendChild(docLink);\n",
              "        }\n",
              "      </script>\n",
              "    </div>\n",
              "  </div>\n",
              "  "
            ],
            "text/plain": [
              "         NOME FAVORECIDO CNPJ OU CPF FAVORECIDO\n",
              "4848            Sigiloso                  -11.0\n",
              "8230  JOSE ALEX DA SILVA          33297947802.0\n",
              "5844            Sigiloso                  -11.0"
            ]
          },
          "metadata": {},
          "execution_count": 78
        }
      ]
    },
    {
      "cell_type": "code",
      "source": [
        "# Seleciona os registros onde o 'CNPJ OU CPF FAVORECIDO' possui valor negativo\n",
        "# Foi observado que valores negativos indicam registros com informações adicionais\n",
        "dfI = dfI[dfI['CNPJ OU CPF FAVORECIDO'].astype(float) < 0]"
      ],
      "metadata": {
        "id": "rQM0w8u83Gla"
      },
      "execution_count": 84,
      "outputs": []
    },
    {
      "cell_type": "code",
      "source": [
        "# Exibe o que foi preenchido no 'NOME FAVORECIDO' dos registros que\n",
        "# possuem 'CNPJ OU CPF FAVORECIDO' com valor negativo\n",
        "dfI['NOME FAVORECIDO'].unique()"
      ],
      "metadata": {
        "colab": {
          "base_uri": "https://localhost:8080/"
        },
        "id": "KgdVarzr4QU5",
        "outputId": "84237600-7998-40e7-a039-eaff9f3a4616"
      },
      "execution_count": 83,
      "outputs": [
        {
          "output_type": "execute_result",
          "data": {
            "text/plain": [
              "array(['NAO SE APLICA', 'SEM INFORMACAO', 'Sigiloso'], dtype=object)"
            ]
          },
          "metadata": {},
          "execution_count": 83
        }
      ]
    },
    {
      "cell_type": "markdown",
      "source": [
        "### J – É possível identificar a data e o valor das movimentações financeiras do CPGF, em todas as movimentações? Ou há movimentações onde não é possível identificar as datas e ou valores?"
      ],
      "metadata": {
        "id": "bv-_POlNXahm"
      }
    },
    {
      "cell_type": "markdown",
      "source": [
        "| Campo           | Observações                                                                                     |\n",
        "|-----------------|-------------------------------------------------------------------------------------------------|\n",
        "| DATA TRANSAÇÃO  | As movimentações que possuem informações protegidas por sigilo não informam a data da transação |\n",
        "| VALOR TRANSAÇÃO | Todos os valores foram informados                                                               |"
      ],
      "metadata": {
        "id": "v6r5kgH_-X4t"
      }
    },
    {
      "cell_type": "code",
      "source": [
        "# Seleciona as colunas de interesse\n",
        "dfJ = df1[['DATA TRANSAÇÃO', 'VALOR TRANSAÇÃO', 'NOME PORTADOR']]"
      ],
      "metadata": {
        "id": "6zElJVxQ-eb-"
      },
      "execution_count": 105,
      "outputs": []
    },
    {
      "cell_type": "code",
      "source": [
        "# Exibe registros sem data da transação\n",
        "dfJ.isna().sum()"
      ],
      "metadata": {
        "colab": {
          "base_uri": "https://localhost:8080/"
        },
        "id": "r1rx-EOKA5M6",
        "outputId": "bf918379-0844-4c38-e3c6-12258a5eff6e"
      },
      "execution_count": 111,
      "outputs": [
        {
          "output_type": "execute_result",
          "data": {
            "text/plain": [
              "DATA TRANSAÇÃO     2306\n",
              "VALOR TRANSAÇÃO       0\n",
              "NOME PORTADOR         0\n",
              "dtype: int64"
            ]
          },
          "metadata": {},
          "execution_count": 111
        }
      ]
    },
    {
      "cell_type": "code",
      "source": [
        "# Seleciona registros que não possuem DATA TRANSAÇÃO\n",
        "dfJ = dfJ[dfJ['DATA TRANSAÇÃO'].isna() == True]"
      ],
      "metadata": {
        "id": "lcEppNfdBYqD"
      },
      "execution_count": 109,
      "outputs": []
    },
    {
      "cell_type": "code",
      "source": [
        "# Exibe os valores preenchidos em NOME PORTADOR para os registros sem informação de DATA TRANSAÇÃO\n",
        "dfJ['NOME PORTADOR'].unique()"
      ],
      "metadata": {
        "colab": {
          "base_uri": "https://localhost:8080/"
        },
        "id": "VBEuHCerCY1h",
        "outputId": "041fa527-1041-4f3b-c6bb-ed8a899529a9"
      },
      "execution_count": 110,
      "outputs": [
        {
          "output_type": "execute_result",
          "data": {
            "text/plain": [
              "array(['Sigiloso'], dtype=object)"
            ]
          },
          "metadata": {},
          "execution_count": 110
        }
      ]
    },
    {
      "cell_type": "markdown",
      "source": [
        "### K (código) – Qual a soma total das movimentações utilizando o CPGF?"
      ],
      "metadata": {
        "id": "2p8c_HkPXaxN"
      }
    },
    {
      "cell_type": "markdown",
      "source": [
        "| Total das movimentações utilizando o CPGF | R$ 5.619.007,95 |\n",
        "|-------------------------------------------|-----------------|"
      ],
      "metadata": {
        "id": "pNePNjkmEK7c"
      }
    },
    {
      "cell_type": "code",
      "source": [
        "# Seleciona coluna de interesse\n",
        "dfK = df1[['VALOR TRANSAÇÃO']]"
      ],
      "metadata": {
        "id": "cSG7cRQnC_lx"
      },
      "execution_count": 122,
      "outputs": []
    },
    {
      "cell_type": "code",
      "source": [
        "# Soma o campo 'VALOR TRANSAÇÃO' de todos os registros de movimentação.\n",
        "format_to_brl_currency(sum(dfK['VALOR TRANSAÇÃO']))"
      ],
      "metadata": {
        "colab": {
          "base_uri": "https://localhost:8080/",
          "height": 35
        },
        "id": "mV7HSTXsbAHc",
        "outputId": "c82afb7e-c7bc-4a6d-fb13-634de6b02f58"
      },
      "execution_count": 138,
      "outputs": [
        {
          "output_type": "execute_result",
          "data": {
            "application/vnd.google.colaboratory.intrinsic+json": {
              "type": "string"
            },
            "text/plain": [
              "'R$5.619.007,95'"
            ]
          },
          "metadata": {},
          "execution_count": 138
        }
      ]
    },
    {
      "cell_type": "markdown",
      "source": [
        "### L (código) – Qual a soma das movimentações sigilosas?\n"
      ],
      "metadata": {
        "id": "3yDMXHfNXa9q"
      }
    },
    {
      "cell_type": "markdown",
      "source": [
        "| Total das movimentações sigilosas | R$ 3.108.731,15 |\n",
        "|-----------------------------------|-----------------|"
      ],
      "metadata": {
        "id": "qLrefOqRFAyc"
      }
    },
    {
      "cell_type": "markdown",
      "source": [
        "**Premissa:**\n",
        "\n",
        "Movimentação Sigilosa: \n",
        "É aquela na qual o campo **NOME FAVORECIDO** é igual a **Sigiloso**."
      ],
      "metadata": {
        "id": "2s2BFlH-VWpI"
      }
    },
    {
      "cell_type": "code",
      "source": [
        "# Cria dataframe com as movimentações que contem NOME FAVORECIDO == Sigiloso\n",
        "df_sigilosas = df1[df1['NOME FAVORECIDO'] == 'Sigiloso']"
      ],
      "metadata": {
        "id": "GbVsgP24b76c"
      },
      "execution_count": 126,
      "outputs": []
    },
    {
      "cell_type": "code",
      "source": [
        "# Soma o campo VALOR TRANSAÇÃO do dataframe de movimentações Sigilosas\n",
        "total_movimentacoes_sigilosas = sum(df_sigilosas['VALOR TRANSAÇÃO'])\n",
        "format_to_brl_currency(total_movimentacoes_sigilosas)"
      ],
      "metadata": {
        "colab": {
          "base_uri": "https://localhost:8080/",
          "height": 35
        },
        "id": "3TQTNmG24_ts",
        "outputId": "2d2f6141-0e02-4d96-bd3a-d1f462a2f493"
      },
      "execution_count": 127,
      "outputs": [
        {
          "output_type": "execute_result",
          "data": {
            "application/vnd.google.colaboratory.intrinsic+json": {
              "type": "string"
            },
            "text/plain": [
              "'R$3.108.731,15'"
            ]
          },
          "metadata": {},
          "execution_count": 127
        }
      ]
    },
    {
      "cell_type": "markdown",
      "source": [
        "### M (código) – Qual o Órgão que mais realizou movimentações sigilosas no período e qual o valor (somado)?"
      ],
      "metadata": {
        "id": "xIYMtkoSXbOz"
      }
    },
    {
      "cell_type": "markdown",
      "source": [
        "| NOME ÓRGÃO               | TOTAL TRANSAÇÕES SIGILOSAS   |\n",
        "|--------------------------|:----------------------------:|\n",
        "| Presidência da República | R$ 1.699.751,04              |"
      ],
      "metadata": {
        "id": "UtI76xFDFWlG"
      }
    },
    {
      "cell_type": "code",
      "source": [
        "# Cria dataframe com as colunas de interesse a partir do dataframe de movimentações sigilosas\n",
        "dfM = df_sigilosas[['NOME ÓRGÃO', 'VALOR TRANSAÇÃO']]\n",
        "# Faz a soma do VALOR TRANSAÇÃO agrupando por NOME ÓRGÃO\n",
        "dfM = dfM.groupby(['NOME ÓRGÃO']).agg({'VALOR TRANSAÇÃO' : sum})\n",
        "# Obtem Órgão com maior somatório de movimentações sigilosas\n",
        "dfM.nlargest(1, 'VALOR TRANSAÇÃO')"
      ],
      "metadata": {
        "colab": {
          "base_uri": "https://localhost:8080/",
          "height": 112
        },
        "outputId": "5d9caecc-e97f-4ade-fc07-c2a8b29fcf49",
        "id": "THERBhL3gsWE"
      },
      "execution_count": 14,
      "outputs": [
        {
          "output_type": "execute_result",
          "data": {
            "text/html": [
              "\n",
              "  <div id=\"df-85bd69d6-347f-4bce-99b0-f2e6fa820b6d\">\n",
              "    <div class=\"colab-df-container\">\n",
              "      <div>\n",
              "<style scoped>\n",
              "    .dataframe tbody tr th:only-of-type {\n",
              "        vertical-align: middle;\n",
              "    }\n",
              "\n",
              "    .dataframe tbody tr th {\n",
              "        vertical-align: top;\n",
              "    }\n",
              "\n",
              "    .dataframe thead th {\n",
              "        text-align: right;\n",
              "    }\n",
              "</style>\n",
              "<table border=\"1\" class=\"dataframe\">\n",
              "  <thead>\n",
              "    <tr style=\"text-align: right;\">\n",
              "      <th></th>\n",
              "      <th>VALOR TRANSAÇÃO</th>\n",
              "    </tr>\n",
              "    <tr>\n",
              "      <th>NOME ÓRGÃO</th>\n",
              "      <th></th>\n",
              "    </tr>\n",
              "  </thead>\n",
              "  <tbody>\n",
              "    <tr>\n",
              "      <th>Presidência da República</th>\n",
              "      <td>1699751.04</td>\n",
              "    </tr>\n",
              "  </tbody>\n",
              "</table>\n",
              "</div>\n",
              "      <button class=\"colab-df-convert\" onclick=\"convertToInteractive('df-85bd69d6-347f-4bce-99b0-f2e6fa820b6d')\"\n",
              "              title=\"Convert this dataframe to an interactive table.\"\n",
              "              style=\"display:none;\">\n",
              "        \n",
              "  <svg xmlns=\"http://www.w3.org/2000/svg\" height=\"24px\"viewBox=\"0 0 24 24\"\n",
              "       width=\"24px\">\n",
              "    <path d=\"M0 0h24v24H0V0z\" fill=\"none\"/>\n",
              "    <path d=\"M18.56 5.44l.94 2.06.94-2.06 2.06-.94-2.06-.94-.94-2.06-.94 2.06-2.06.94zm-11 1L8.5 8.5l.94-2.06 2.06-.94-2.06-.94L8.5 2.5l-.94 2.06-2.06.94zm10 10l.94 2.06.94-2.06 2.06-.94-2.06-.94-.94-2.06-.94 2.06-2.06.94z\"/><path d=\"M17.41 7.96l-1.37-1.37c-.4-.4-.92-.59-1.43-.59-.52 0-1.04.2-1.43.59L10.3 9.45l-7.72 7.72c-.78.78-.78 2.05 0 2.83L4 21.41c.39.39.9.59 1.41.59.51 0 1.02-.2 1.41-.59l7.78-7.78 2.81-2.81c.8-.78.8-2.07 0-2.86zM5.41 20L4 18.59l7.72-7.72 1.47 1.35L5.41 20z\"/>\n",
              "  </svg>\n",
              "      </button>\n",
              "      \n",
              "  <style>\n",
              "    .colab-df-container {\n",
              "      display:flex;\n",
              "      flex-wrap:wrap;\n",
              "      gap: 12px;\n",
              "    }\n",
              "\n",
              "    .colab-df-convert {\n",
              "      background-color: #E8F0FE;\n",
              "      border: none;\n",
              "      border-radius: 50%;\n",
              "      cursor: pointer;\n",
              "      display: none;\n",
              "      fill: #1967D2;\n",
              "      height: 32px;\n",
              "      padding: 0 0 0 0;\n",
              "      width: 32px;\n",
              "    }\n",
              "\n",
              "    .colab-df-convert:hover {\n",
              "      background-color: #E2EBFA;\n",
              "      box-shadow: 0px 1px 2px rgba(60, 64, 67, 0.3), 0px 1px 3px 1px rgba(60, 64, 67, 0.15);\n",
              "      fill: #174EA6;\n",
              "    }\n",
              "\n",
              "    [theme=dark] .colab-df-convert {\n",
              "      background-color: #3B4455;\n",
              "      fill: #D2E3FC;\n",
              "    }\n",
              "\n",
              "    [theme=dark] .colab-df-convert:hover {\n",
              "      background-color: #434B5C;\n",
              "      box-shadow: 0px 1px 3px 1px rgba(0, 0, 0, 0.15);\n",
              "      filter: drop-shadow(0px 1px 2px rgba(0, 0, 0, 0.3));\n",
              "      fill: #FFFFFF;\n",
              "    }\n",
              "  </style>\n",
              "\n",
              "      <script>\n",
              "        const buttonEl =\n",
              "          document.querySelector('#df-85bd69d6-347f-4bce-99b0-f2e6fa820b6d button.colab-df-convert');\n",
              "        buttonEl.style.display =\n",
              "          google.colab.kernel.accessAllowed ? 'block' : 'none';\n",
              "\n",
              "        async function convertToInteractive(key) {\n",
              "          const element = document.querySelector('#df-85bd69d6-347f-4bce-99b0-f2e6fa820b6d');\n",
              "          const dataTable =\n",
              "            await google.colab.kernel.invokeFunction('convertToInteractive',\n",
              "                                                     [key], {});\n",
              "          if (!dataTable) return;\n",
              "\n",
              "          const docLinkHtml = 'Like what you see? Visit the ' +\n",
              "            '<a target=\"_blank\" href=https://colab.research.google.com/notebooks/data_table.ipynb>data table notebook</a>'\n",
              "            + ' to learn more about interactive tables.';\n",
              "          element.innerHTML = '';\n",
              "          dataTable['output_type'] = 'display_data';\n",
              "          await google.colab.output.renderOutput(dataTable, element);\n",
              "          const docLink = document.createElement('div');\n",
              "          docLink.innerHTML = docLinkHtml;\n",
              "          element.appendChild(docLink);\n",
              "        }\n",
              "      </script>\n",
              "    </div>\n",
              "  </div>\n",
              "  "
            ],
            "text/plain": [
              "                          VALOR TRANSAÇÃO\n",
              "NOME ÓRGÃO                               \n",
              "Presidência da República       1699751.04"
            ]
          },
          "metadata": {},
          "execution_count": 14
        }
      ]
    },
    {
      "cell_type": "markdown",
      "source": [
        "### N (código) – Qual o nome do portador que mais realizou saques no período? Qual a soma dos saques realizada por ele? Qual o nome do Órgão desse portador?\n"
      ],
      "metadata": {
        "id": "joDTXDdzXhxC"
      }
    },
    {
      "cell_type": "markdown",
      "source": [
        "| NOME PORTADOR         | NOME ÓRGÃO                                              | TOTAL SAQUES |\n",
        "|-----------------------|---------------------------------------------------------|--------------|\n",
        "| RAFAEL FERREIRA COSTA | Instituto Chico Mendes de Conservação da Biodiversidade | R$ 24.520,0  |"
      ],
      "metadata": {
        "id": "1JkqvOBMFfx_"
      }
    },
    {
      "cell_type": "code",
      "source": [
        "# Cria dataframe apenas com as colunas de interesse ['NOME ÓRGÃO', 'NOME PORTADOR', 'TRANSAÇÃO', 'VALOR TRANSAÇÃO']\n",
        "dfN = df1[['NOME ÓRGÃO', 'NOME PORTADOR', 'TRANSAÇÃO', 'VALOR TRANSAÇÃO']]"
      ],
      "metadata": {
        "id": "_bFT5KYCkjpK"
      },
      "execution_count": 134,
      "outputs": []
    },
    {
      "cell_type": "code",
      "source": [
        "# Identifica valores de preenchimento do campo TRANSAÇÃO\n",
        "dfN['TRANSAÇÃO'].unique()"
      ],
      "metadata": {
        "colab": {
          "base_uri": "https://localhost:8080/"
        },
        "id": "y8H6iZiKI-qk",
        "outputId": "fc7a18ea-14ec-4e20-850c-27c5510f92f7"
      },
      "execution_count": 136,
      "outputs": [
        {
          "output_type": "execute_result",
          "data": {
            "text/plain": [
              "array(['SAQUE CASH/ATM BB', 'COMPRA A/V - R$ - APRES',\n",
              "       'SAQUE - INT$ - APRES', 'COMPRA A/V - INT$ - APRES',\n",
              "       'Informações protegidas por sigilo',\n",
              "       'COMP A/V-SOL DISP C/CLI-R$ ANT VENC'], dtype=object)"
            ]
          },
          "metadata": {},
          "execution_count": 136
        }
      ]
    },
    {
      "cell_type": "markdown",
      "source": [
        "**Premissa**: Considerou-se um saque todos os movimentos que continham no campo 'TRANSAÇÃO' a palavra 'SAQUE'."
      ],
      "metadata": {
        "id": "85AeJ2VMJRuA"
      }
    },
    {
      "cell_type": "code",
      "source": [
        "# Filtra movimentações que contenham \"SAQUE\" na coluna 'TRANSAÇÃO\n",
        "dfN = dfN[dfN['TRANSAÇÃO'].str.contains('SAQUE')]"
      ],
      "metadata": {
        "id": "Xq6DUKpCl16C"
      },
      "execution_count": 131,
      "outputs": []
    },
    {
      "cell_type": "code",
      "source": [
        "# Faz a soma das transações realizadas agrupando por PORTADOR e depois por NOME ÓRGÃO\n",
        "dfN = dfN.groupby(['NOME PORTADOR', 'NOME ÓRGÃO']).agg({'VALOR TRANSAÇÃO' : sum})"
      ],
      "metadata": {
        "id": "qh7i2RoFm1AP"
      },
      "execution_count": 132,
      "outputs": []
    },
    {
      "cell_type": "code",
      "source": [
        "# Obtem o PORTADOR com o maior somatório de VALOR TRANSAÇÃO \n",
        "dfN.nlargest(1, 'VALOR TRANSAÇÃO')"
      ],
      "metadata": {
        "colab": {
          "base_uri": "https://localhost:8080/",
          "height": 112
        },
        "id": "XuSAYHGenIth",
        "outputId": "ff26e395-686d-487a-dc9c-a40c9bd42e41"
      },
      "execution_count": 133,
      "outputs": [
        {
          "output_type": "execute_result",
          "data": {
            "text/html": [
              "\n",
              "  <div id=\"df-e0457a26-1260-4e02-be8f-54309ed575b3\">\n",
              "    <div class=\"colab-df-container\">\n",
              "      <div>\n",
              "<style scoped>\n",
              "    .dataframe tbody tr th:only-of-type {\n",
              "        vertical-align: middle;\n",
              "    }\n",
              "\n",
              "    .dataframe tbody tr th {\n",
              "        vertical-align: top;\n",
              "    }\n",
              "\n",
              "    .dataframe thead th {\n",
              "        text-align: right;\n",
              "    }\n",
              "</style>\n",
              "<table border=\"1\" class=\"dataframe\">\n",
              "  <thead>\n",
              "    <tr style=\"text-align: right;\">\n",
              "      <th></th>\n",
              "      <th></th>\n",
              "      <th>VALOR TRANSAÇÃO</th>\n",
              "    </tr>\n",
              "    <tr>\n",
              "      <th>NOME PORTADOR</th>\n",
              "      <th>NOME ÓRGÃO</th>\n",
              "      <th></th>\n",
              "    </tr>\n",
              "  </thead>\n",
              "  <tbody>\n",
              "    <tr>\n",
              "      <th>RAFAEL FERREIRA COSTA</th>\n",
              "      <th>Instituto Chico Mendes de Conservação da Biodiversidade</th>\n",
              "      <td>24520.0</td>\n",
              "    </tr>\n",
              "  </tbody>\n",
              "</table>\n",
              "</div>\n",
              "      <button class=\"colab-df-convert\" onclick=\"convertToInteractive('df-e0457a26-1260-4e02-be8f-54309ed575b3')\"\n",
              "              title=\"Convert this dataframe to an interactive table.\"\n",
              "              style=\"display:none;\">\n",
              "        \n",
              "  <svg xmlns=\"http://www.w3.org/2000/svg\" height=\"24px\"viewBox=\"0 0 24 24\"\n",
              "       width=\"24px\">\n",
              "    <path d=\"M0 0h24v24H0V0z\" fill=\"none\"/>\n",
              "    <path d=\"M18.56 5.44l.94 2.06.94-2.06 2.06-.94-2.06-.94-.94-2.06-.94 2.06-2.06.94zm-11 1L8.5 8.5l.94-2.06 2.06-.94-2.06-.94L8.5 2.5l-.94 2.06-2.06.94zm10 10l.94 2.06.94-2.06 2.06-.94-2.06-.94-.94-2.06-.94 2.06-2.06.94z\"/><path d=\"M17.41 7.96l-1.37-1.37c-.4-.4-.92-.59-1.43-.59-.52 0-1.04.2-1.43.59L10.3 9.45l-7.72 7.72c-.78.78-.78 2.05 0 2.83L4 21.41c.39.39.9.59 1.41.59.51 0 1.02-.2 1.41-.59l7.78-7.78 2.81-2.81c.8-.78.8-2.07 0-2.86zM5.41 20L4 18.59l7.72-7.72 1.47 1.35L5.41 20z\"/>\n",
              "  </svg>\n",
              "      </button>\n",
              "      \n",
              "  <style>\n",
              "    .colab-df-container {\n",
              "      display:flex;\n",
              "      flex-wrap:wrap;\n",
              "      gap: 12px;\n",
              "    }\n",
              "\n",
              "    .colab-df-convert {\n",
              "      background-color: #E8F0FE;\n",
              "      border: none;\n",
              "      border-radius: 50%;\n",
              "      cursor: pointer;\n",
              "      display: none;\n",
              "      fill: #1967D2;\n",
              "      height: 32px;\n",
              "      padding: 0 0 0 0;\n",
              "      width: 32px;\n",
              "    }\n",
              "\n",
              "    .colab-df-convert:hover {\n",
              "      background-color: #E2EBFA;\n",
              "      box-shadow: 0px 1px 2px rgba(60, 64, 67, 0.3), 0px 1px 3px 1px rgba(60, 64, 67, 0.15);\n",
              "      fill: #174EA6;\n",
              "    }\n",
              "\n",
              "    [theme=dark] .colab-df-convert {\n",
              "      background-color: #3B4455;\n",
              "      fill: #D2E3FC;\n",
              "    }\n",
              "\n",
              "    [theme=dark] .colab-df-convert:hover {\n",
              "      background-color: #434B5C;\n",
              "      box-shadow: 0px 1px 3px 1px rgba(0, 0, 0, 0.15);\n",
              "      filter: drop-shadow(0px 1px 2px rgba(0, 0, 0, 0.3));\n",
              "      fill: #FFFFFF;\n",
              "    }\n",
              "  </style>\n",
              "\n",
              "      <script>\n",
              "        const buttonEl =\n",
              "          document.querySelector('#df-e0457a26-1260-4e02-be8f-54309ed575b3 button.colab-df-convert');\n",
              "        buttonEl.style.display =\n",
              "          google.colab.kernel.accessAllowed ? 'block' : 'none';\n",
              "\n",
              "        async function convertToInteractive(key) {\n",
              "          const element = document.querySelector('#df-e0457a26-1260-4e02-be8f-54309ed575b3');\n",
              "          const dataTable =\n",
              "            await google.colab.kernel.invokeFunction('convertToInteractive',\n",
              "                                                     [key], {});\n",
              "          if (!dataTable) return;\n",
              "\n",
              "          const docLinkHtml = 'Like what you see? Visit the ' +\n",
              "            '<a target=\"_blank\" href=https://colab.research.google.com/notebooks/data_table.ipynb>data table notebook</a>'\n",
              "            + ' to learn more about interactive tables.';\n",
              "          element.innerHTML = '';\n",
              "          dataTable['output_type'] = 'display_data';\n",
              "          await google.colab.output.renderOutput(dataTable, element);\n",
              "          const docLink = document.createElement('div');\n",
              "          docLink.innerHTML = docLinkHtml;\n",
              "          element.appendChild(docLink);\n",
              "        }\n",
              "      </script>\n",
              "    </div>\n",
              "  </div>\n",
              "  "
            ],
            "text/plain": [
              "                                                                          VALOR TRANSAÇÃO\n",
              "NOME PORTADOR         NOME ÓRGÃO                                                         \n",
              "RAFAEL FERREIRA COSTA Instituto Chico Mendes de Conservação da Biodiv...          24520.0"
            ]
          },
          "metadata": {},
          "execution_count": 133
        }
      ]
    },
    {
      "cell_type": "markdown",
      "source": [
        "### O (código) – Qual o nome do favorecido que mais recebeu compras realizadas utilizando o CPGF?\n"
      ],
      "metadata": {
        "id": "enpxFAXSXiFs"
      }
    },
    {
      "cell_type": "markdown",
      "source": [
        "O favorecido, identificável, que mais recebeu compras realizadas utilizando o CPGF foi o MERCADOPAGO.COM REPRESENTACOES LTDA."
      ],
      "metadata": {
        "id": "HSSGv5g_ioPO"
      }
    },
    {
      "cell_type": "code",
      "source": [
        "# Cria dataframe apenas com as colunas de interesse ['NOME FAVORECIDO', 'VALOR TRANSAÇÃO']\n",
        "dfO = df1[['NOME FAVORECIDO', 'VALOR TRANSAÇÃO']]"
      ],
      "metadata": {
        "id": "iDu9pFM0rMhu"
      },
      "execution_count": 19,
      "outputs": []
    },
    {
      "cell_type": "code",
      "source": [
        "# Agrupa soma das transações recebidas por FAVORECIDO e depois por NOME ÓRGÃO\n",
        "dfO = dfO.groupby(['NOME FAVORECIDO']).agg({'VALOR TRANSAÇÃO' : sum})"
      ],
      "metadata": {
        "id": "nrSpeOCNrM1g"
      },
      "execution_count": 20,
      "outputs": []
    },
    {
      "cell_type": "code",
      "source": [
        "# Obtem o FAVORECIDO com o maior somatório de VALOR TRANSAÇÃO \n",
        "dfO.nlargest(4, 'VALOR TRANSAÇÃO')"
      ],
      "metadata": {
        "colab": {
          "base_uri": "https://localhost:8080/",
          "height": 206
        },
        "id": "xY79Li_krNNu",
        "outputId": "7079b422-99e7-43cd-9150-bdf178d9540a"
      },
      "execution_count": 21,
      "outputs": [
        {
          "output_type": "execute_result",
          "data": {
            "text/html": [
              "\n",
              "  <div id=\"df-4e11c151-694c-4337-b1e1-2ab211afdd68\">\n",
              "    <div class=\"colab-df-container\">\n",
              "      <div>\n",
              "<style scoped>\n",
              "    .dataframe tbody tr th:only-of-type {\n",
              "        vertical-align: middle;\n",
              "    }\n",
              "\n",
              "    .dataframe tbody tr th {\n",
              "        vertical-align: top;\n",
              "    }\n",
              "\n",
              "    .dataframe thead th {\n",
              "        text-align: right;\n",
              "    }\n",
              "</style>\n",
              "<table border=\"1\" class=\"dataframe\">\n",
              "  <thead>\n",
              "    <tr style=\"text-align: right;\">\n",
              "      <th></th>\n",
              "      <th>VALOR TRANSAÇÃO</th>\n",
              "    </tr>\n",
              "    <tr>\n",
              "      <th>NOME FAVORECIDO</th>\n",
              "      <th></th>\n",
              "    </tr>\n",
              "  </thead>\n",
              "  <tbody>\n",
              "    <tr>\n",
              "      <th>Sigiloso</th>\n",
              "      <td>3108731.15</td>\n",
              "    </tr>\n",
              "    <tr>\n",
              "      <th>NAO SE APLICA</th>\n",
              "      <td>367504.96</td>\n",
              "    </tr>\n",
              "    <tr>\n",
              "      <th>SEM INFORMACAO</th>\n",
              "      <td>67421.29</td>\n",
              "    </tr>\n",
              "    <tr>\n",
              "      <th>MERCADOPAGO.COM REPRESENTACOES LTDA.</th>\n",
              "      <td>60694.21</td>\n",
              "    </tr>\n",
              "  </tbody>\n",
              "</table>\n",
              "</div>\n",
              "      <button class=\"colab-df-convert\" onclick=\"convertToInteractive('df-4e11c151-694c-4337-b1e1-2ab211afdd68')\"\n",
              "              title=\"Convert this dataframe to an interactive table.\"\n",
              "              style=\"display:none;\">\n",
              "        \n",
              "  <svg xmlns=\"http://www.w3.org/2000/svg\" height=\"24px\"viewBox=\"0 0 24 24\"\n",
              "       width=\"24px\">\n",
              "    <path d=\"M0 0h24v24H0V0z\" fill=\"none\"/>\n",
              "    <path d=\"M18.56 5.44l.94 2.06.94-2.06 2.06-.94-2.06-.94-.94-2.06-.94 2.06-2.06.94zm-11 1L8.5 8.5l.94-2.06 2.06-.94-2.06-.94L8.5 2.5l-.94 2.06-2.06.94zm10 10l.94 2.06.94-2.06 2.06-.94-2.06-.94-.94-2.06-.94 2.06-2.06.94z\"/><path d=\"M17.41 7.96l-1.37-1.37c-.4-.4-.92-.59-1.43-.59-.52 0-1.04.2-1.43.59L10.3 9.45l-7.72 7.72c-.78.78-.78 2.05 0 2.83L4 21.41c.39.39.9.59 1.41.59.51 0 1.02-.2 1.41-.59l7.78-7.78 2.81-2.81c.8-.78.8-2.07 0-2.86zM5.41 20L4 18.59l7.72-7.72 1.47 1.35L5.41 20z\"/>\n",
              "  </svg>\n",
              "      </button>\n",
              "      \n",
              "  <style>\n",
              "    .colab-df-container {\n",
              "      display:flex;\n",
              "      flex-wrap:wrap;\n",
              "      gap: 12px;\n",
              "    }\n",
              "\n",
              "    .colab-df-convert {\n",
              "      background-color: #E8F0FE;\n",
              "      border: none;\n",
              "      border-radius: 50%;\n",
              "      cursor: pointer;\n",
              "      display: none;\n",
              "      fill: #1967D2;\n",
              "      height: 32px;\n",
              "      padding: 0 0 0 0;\n",
              "      width: 32px;\n",
              "    }\n",
              "\n",
              "    .colab-df-convert:hover {\n",
              "      background-color: #E2EBFA;\n",
              "      box-shadow: 0px 1px 2px rgba(60, 64, 67, 0.3), 0px 1px 3px 1px rgba(60, 64, 67, 0.15);\n",
              "      fill: #174EA6;\n",
              "    }\n",
              "\n",
              "    [theme=dark] .colab-df-convert {\n",
              "      background-color: #3B4455;\n",
              "      fill: #D2E3FC;\n",
              "    }\n",
              "\n",
              "    [theme=dark] .colab-df-convert:hover {\n",
              "      background-color: #434B5C;\n",
              "      box-shadow: 0px 1px 3px 1px rgba(0, 0, 0, 0.15);\n",
              "      filter: drop-shadow(0px 1px 2px rgba(0, 0, 0, 0.3));\n",
              "      fill: #FFFFFF;\n",
              "    }\n",
              "  </style>\n",
              "\n",
              "      <script>\n",
              "        const buttonEl =\n",
              "          document.querySelector('#df-4e11c151-694c-4337-b1e1-2ab211afdd68 button.colab-df-convert');\n",
              "        buttonEl.style.display =\n",
              "          google.colab.kernel.accessAllowed ? 'block' : 'none';\n",
              "\n",
              "        async function convertToInteractive(key) {\n",
              "          const element = document.querySelector('#df-4e11c151-694c-4337-b1e1-2ab211afdd68');\n",
              "          const dataTable =\n",
              "            await google.colab.kernel.invokeFunction('convertToInteractive',\n",
              "                                                     [key], {});\n",
              "          if (!dataTable) return;\n",
              "\n",
              "          const docLinkHtml = 'Like what you see? Visit the ' +\n",
              "            '<a target=\"_blank\" href=https://colab.research.google.com/notebooks/data_table.ipynb>data table notebook</a>'\n",
              "            + ' to learn more about interactive tables.';\n",
              "          element.innerHTML = '';\n",
              "          dataTable['output_type'] = 'display_data';\n",
              "          await google.colab.output.renderOutput(dataTable, element);\n",
              "          const docLink = document.createElement('div');\n",
              "          docLink.innerHTML = docLinkHtml;\n",
              "          element.appendChild(docLink);\n",
              "        }\n",
              "      </script>\n",
              "    </div>\n",
              "  </div>\n",
              "  "
            ],
            "text/plain": [
              "                                      VALOR TRANSAÇÃO\n",
              "NOME FAVORECIDO                                      \n",
              "Sigiloso                                   3108731.15\n",
              "NAO SE APLICA                               367504.96\n",
              "SEM INFORMACAO                               67421.29\n",
              "MERCADOPAGO.COM REPRESENTACOES LTDA.         60694.21"
            ]
          },
          "metadata": {},
          "execution_count": 21
        }
      ]
    },
    {
      "cell_type": "markdown",
      "source": [
        "### P - Descreva qual a abordagem utilizada para desenvolver o código para os ítens de K a O."
      ],
      "metadata": {
        "id": "JljDd8qaXiTj"
      }
    },
    {
      "cell_type": "markdown",
      "source": [
        "- K\n",
        "  - Somar o campo 'VALOR TRANSAÇÃO' de todos os registros de movimentação.\n",
        "- L\n",
        "  > **Premissa:**\n",
        "Movimentação Sigilosa: É aquela na qual o campo NOME FAVORECIDO é igual a Sigiloso.\n",
        "\n",
        "  - Criar dataframe com as movimentações que contem NOME FAVORECIDO == Sigiloso\n",
        "Somar o campo VALOR TRANSAÇÃO do dataframe de movimentações Sigilosas\n",
        "- M\n",
        "  - Criar dataframe com as colunas de interesse a partir do dataframe de movimentações sigilosas\n",
        "  - Fazer a soma do VALOR TRANSAÇÃO agrupando por NOME ÓRGÃO\n",
        "  - Obter Órgão com maior somatório de movimentações sigilosas\n",
        "\n",
        "- N\n",
        "    > **Premissa**: Considerou-se um saque todos os movimentos que continham no campo 'TRANSAÇÃO' a palavra 'SAQUE'.\n",
        "    \n",
        "  - Criar dataframe apenas com as colunas de interesse ['NOME ÓRGÃO', 'NOME PORTADOR', 'TRANSAÇÃO', 'VALOR TRANSAÇÃO']\n",
        "  - Identificar valores de preenchimento do campo TRANSAÇÃO\n",
        "  - Filtrar movimentações que contenham \"SAQUE\" na coluna 'TRANSAÇÃO\n",
        "  - Fazer a soma das transações realizadas agrupando por PORTADOR e depois por NOME ÓRGÃO\n",
        "  - Obter o PORTADOR com o maior somatório de VALOR TRANSAÇÃO \n",
        "- O\n",
        "  - Criar dataframe apenas com as colunas de interesse ['NOME FAVORECIDO', 'VALOR TRANSAÇÃO']\n",
        "  - Agrupar soma das transações recebidas por FAVORECIDO e depois por NOME ÓRGÃO\n",
        "  - Obter o FAVORECIDO com o maior somatório de VALOR TRANSAÇÃO\n"
      ],
      "metadata": {
        "id": "SUJGEoDXZFPC"
      }
    },
    {
      "cell_type": "markdown",
      "source": [
        "# 4.0 Referências"
      ],
      "metadata": {
        "id": "QvaLyBagiY54"
      }
    },
    {
      "cell_type": "markdown",
      "source": [
        "1. https://www.portaltransparencia.gov.br/pagina-interna/603242-cartao-de-pagamento-do-governo-federal\n",
        "2. https://www.gov.br/compras/pt-br/agente-publico/orientacoes-no-combate-a-covid-19/midias/suprimento-de-fundos.pdf\n",
        "3. http://www.planalto.gov.br/ccivil_03/_ato2004-2006/2005/decreto/D5355compilado.htm\n",
        "4. https://www.gov.br/cgu/pt-br/centrais-de-conteudo/publicacoes/orientacoes-aos-gestores/arquivos/suprimento-de-fundos-e-cartao-de-pagamento.pdf"
      ],
      "metadata": {
        "id": "4pB4J3O5ieqY"
      }
    }
  ]
}